{
 "cells": [
  {
   "cell_type": "code",
   "execution_count": 24,
   "metadata": {},
   "outputs": [
    {
     "name": "stdout",
     "output_type": "stream",
     "text": [
      "2018-03-05 17:08:21.555725\n"
     ]
    }
   ],
   "source": [
    "from core import models as CoreModels\n",
    "from django.db.models import Q\n",
    "from datetime import datetime, timedelta\n",
    "\n",
    "today = datetime.now()\n",
    "print (today)\n",
    "# CsvRecordQS = CoreModels.CSVRecord.objects.filter(status_code = 0).filter(action_date__range=[month_ago, today])\n",
    "\n",
    "# print (CsvRecordQS)\n"
   ]
  },
  {
   "cell_type": "code",
   "execution_count": 36,
   "metadata": {},
   "outputs": [
    {
     "data": {
      "text/plain": [
       "<HttpResponse status_code=200, \"text/csv\">"
      ]
     },
     "execution_count": 36,
     "metadata": {},
     "output_type": "execute_result"
    }
   ],
   "source": [
    "from core import download_logic as DL\n",
    "\n",
    "DL.scheduled_pending(2)\n",
    "\n"
   ]
  },
  {
   "cell_type": "code",
   "execution_count": null,
   "metadata": {},
   "outputs": [],
   "source": []
  }
 ],
 "metadata": {
  "kernelspec": {
   "display_name": "Django Shell-Plus",
   "language": "python",
   "name": "django_extensions"
  },
  "language_info": {
   "codemirror_mode": {
    "name": "ipython",
    "version": 3
   },
   "file_extension": ".py",
   "mimetype": "text/x-python",
   "name": "python",
   "nbconvert_exporter": "python",
   "pygments_lexer": "ipython3",
   "version": "3.6.4"
  }
 },
 "nbformat": 4,
 "nbformat_minor": 2
}
